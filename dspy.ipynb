{
 "cells": [
  {
   "cell_type": "code",
   "execution_count": null,
   "metadata": {},
   "outputs": [],
   "source": [
    "!pip install dspy-ai\n",
    "!pip install \"dspy-ai[weaviate]\""
   ]
  },
  {
   "cell_type": "code",
   "execution_count": 1,
   "metadata": {},
   "outputs": [
    {
     "name": "stderr",
     "output_type": "stream",
     "text": [
      "/home/amir/miniconda3/envs/nlp/lib/python3.12/site-packages/tqdm/auto.py:21: TqdmWarning: IProgress not found. Please update jupyter and ipywidgets. See https://ipywidgets.readthedocs.io/en/stable/user_install.html\n",
      "  from .autonotebook import tqdm as notebook_tqdm\n"
     ]
    }
   ],
   "source": [
    "import dspy\n",
    "from dspy.datasets.gsm8k import GSM8K, gsm8k_metric\n",
    "from transformers import pipeline"
   ]
  },
  {
   "cell_type": "code",
   "execution_count": null,
   "metadata": {},
   "outputs": [],
   "source": [
    "dspy??"
   ]
  },
  {
   "cell_type": "markdown",
   "metadata": {},
   "source": [
    "# Model"
   ]
  },
  {
   "cell_type": "code",
   "execution_count": 2,
   "metadata": {},
   "outputs": [],
   "source": [
    "# Set up the LM\n",
    "llama = dspy.OllamaLocal(model='llama3:8b')\n",
    "dspy.settings.configure(lm=llama)"
   ]
  },
  {
   "cell_type": "code",
   "execution_count": null,
   "metadata": {},
   "outputs": [],
   "source": [
    "llama??"
   ]
  },
  {
   "cell_type": "code",
   "execution_count": null,
   "metadata": {},
   "outputs": [],
   "source": [
    "# Load the Hugging Face model\n",
    "gpt2_pipeline = pipeline('text-generation', model='gpt2')\n",
    "\n",
    "\n",
    "# Define a wrapper class for the Hugging Face model\n",
    "class HFModelWrapper:\n",
    "    def __init__(self, model_pipeline):\n",
    "        self.model_pipeline = model_pipeline\n",
    "\n",
    "    def generate(self, prompt, max_tokens):\n",
    "        response = self.model_pipeline(prompt, max_length=max_tokens, num_return_sequences=1)\n",
    "        return response[0]['generated_text']\n",
    "\n",
    "\n",
    "\n",
    "hf_model = HFModelWrapper(gpt2_pipeline)\n",
    "dspy.settings.configure(lm=hf_model)"
   ]
  },
  {
   "cell_type": "code",
   "execution_count": null,
   "metadata": {},
   "outputs": [],
   "source": [
    "dspy.HFModel(model=\"meta-llama/Meta-Llama-3-8B-Instruct\")"
   ]
  },
  {
   "cell_type": "code",
   "execution_count": null,
   "metadata": {},
   "outputs": [],
   "source": [
    "llama3 = dspy.HFClientVLLM(model=\"meta-llama/Meta-Llama-3-8B-Instruct\", port=None)\n",
    "colbert = dspy.ColBERTv2(url='http://20.102.90.50:2017/wiki17_abstracts')\n",
    "dspy.configure(lm=llama3)"
   ]
  },
  {
   "cell_type": "markdown",
   "metadata": {},
   "source": [
    "# Data"
   ]
  },
  {
   "cell_type": "code",
   "execution_count": 3,
   "metadata": {},
   "outputs": [
    {
     "name": "stderr",
     "output_type": "stream",
     "text": [
      "100%|██████████| 7473/7473 [00:00<00:00, 49032.36it/s]\n",
      "100%|██████████| 1319/1319 [00:00<00:00, 42077.34it/s]\n"
     ]
    }
   ],
   "source": [
    "# Load math questions from the GSM8K dataset\n",
    "gsm8k = GSM8K()\n",
    "gsm8k_trainset, gsm8k_devset = gsm8k.train[:20], gsm8k.dev[:10]"
   ]
  },
  {
   "cell_type": "code",
   "execution_count": 4,
   "metadata": {},
   "outputs": [
    {
     "data": {
      "text/plain": [
       "[Example({'question': \"The result from the 40-item Statistics exam Marion and Ella took already came out. Ella got 4 incorrect answers while Marion got 6 more than half the score of Ella. What is Marion's score?\", 'gold_reasoning': \"Ella's score is 40 items - 4 items = <<40-4=36>>36 items. Half of Ella's score is 36 items / 2 = <<36/2=18>>18 items. So, Marion's score is 18 items + 6 items = <<18+6=24>>24 items.\", 'answer': '24'}) (input_keys={'question'}),\n",
       " Example({'question': \"Stephen made 10 round trips up and down a 40,000 foot tall mountain. If he reached 3/4 of the mountain's height on each of his trips, calculate the total distance he covered.\", 'gold_reasoning': 'Up a mountain, Stephen covered 3/4*40000 = <<3/4*40000=30000>>30000 feet. Coming down, Stephen covered another 30000 feet, making the total distance covered in one round to be 30000+30000 = <<30000+30000=60000>>60000. Since Stephen made 10 round trips up and down the mountain, he covered 10*60000 = <<10*60000=600000>>600000', 'answer': '600000'}) (input_keys={'question'}),\n",
       " Example({'question': 'Bridget counted 14 shooting stars in the night sky.  Reginald counted two fewer shooting stars than did Bridget, but Sam counted four more shooting stars than did Reginald.  How many more shooting stars did Sam count in the night sky than was the average number of shooting stars observed for the three of them?', 'gold_reasoning': 'Reginald counted two fewer shooting stars than did Bridget, or a total of 14-2=<<14-2=12>>12 shooting stars. Sam counted 4 more shooting stars than did Reginald, or a total of 12+4=16 shooting stars. The average number of shooting stars observed for the three of them was (14+12+16)/3 = <<14=14>>14 shooting stars. Thus, Sam counted 16-14=2 more shooting stars than was the average number of shooting stars observed for the three of them.', 'answer': '2'}) (input_keys={'question'}),\n",
       " Example({'question': 'Sarah buys 20 pencils on Monday. Then she buys 18 more pencils on Tuesday. On Wednesday she buys triple the number of pencils she did on Tuesday. How many pencils does she have?', 'gold_reasoning': 'By adding together Monday and Tuesday, Saah has 20+18= <<20+18=38>>38 pencils On Wednesday, she buys 3 * 18= <<3*18=54>>54 pencils All together, Sarah has 38+54= <<38+54=92>>92 pencils', 'answer': '92'}) (input_keys={'question'}),\n",
       " Example({'question': 'Rookie police officers have to buy duty shoes at the full price of $85, but officers who have served at least a year get a 20% discount. Officers who have served at least three years get an additional 25% off the discounted price. How much does an officer who has served at least three years have to pay for shoes?', 'gold_reasoning': 'Cops that served a year pay $85 * 0.2 = $<<85*0.2=17>>17 less. Cops that served a year pay $85 - $17 = $<<85-17=68>>68. Cops that served at least 3 years get a $68 * 0.25 = $<<68*0.25=17>>17 discount. Cops that served at least 3 years pay $68 - $17 = $<<68-17=51>>51 for shoes.', 'answer': '51'}) (input_keys={'question'}),\n",
       " Example({'question': \"The average score on last week's Spanish test was 90.  Marco scored 10% less than the average test score and Margaret received 5 more points than Marco.  What score did Margaret receive on her test?\", 'gold_reasoning': 'The average test score was 90 and Marco scored 10% less so 90*.10 = <<90*.10=9>>9 points lower The average test score was 90 and Marco scored 9 points less so his test score was 90-9 = <<90-9=81>>81 Margret received 5 more points than Marco whose test score was 81 so she made 5+81 = <<5+81=86>>86 on her test', 'answer': '86'}) (input_keys={'question'}),\n",
       " Example({'question': 'A third of the contestants at a singing competition are female, and the rest are male. If there are 18 contestants in total, how many of them are male?', 'gold_reasoning': 'There are 18/3 = <<18/3=6>>6 female contestants. There are 18-6 = <<18-6=12>>12 male contestants.', 'answer': '12'}) (input_keys={'question'}),\n",
       " Example({'question': 'Nancy bought a pie sliced it into 8 pieces. She gave 1/2 to Joe and Darcy, and she gave 1/4 to Carl. How many slices were left?', 'gold_reasoning': 'The total number of slices she gave to Joe and Darcy is 1/2 x 8 = <<1/2*8=4>>4. The total slice she gave to Carl is 1/4 x 8 = <<1/4*8=2>>2. Therefore, the total slices left is 8 - 4 - 2 = <<8-4-2=2>>2.', 'answer': '2'}) (input_keys={'question'}),\n",
       " Example({'question': 'Megan pays $16 for a shirt that costs $22 before sales. What is the amount of the discount?', 'gold_reasoning': 'Let x be the amount of the discount. We have, 22 - x = $16 We change the writing of the equation: 22 - x + x = 16 + x So, 22 = 16 + x We then Remove 16 from both sides: 22 - 16 = 16 + x - 16 So, 22 - 16 = x So, the amount of the discount is x = $<<6=6>>6.', 'answer': '6'}) (input_keys={'question'}),\n",
       " Example({'question': \"Amaya scored 20 marks fewer in Maths than she scored in Arts. She also got 10 marks more in Social Studies than she got in Music. If she scored 70 in Music and scored 1/10 less in Maths, what's the total number of marks she scored in all the subjects?\", 'gold_reasoning': 'The total marks Amaya scored more in Music than in Maths is 1/10 * 70 = <<1/10*70=7>>7 marks. So the total marks she scored in Maths is 70 - 7 = <<70-7=63>>63 marks. If she scored 20 marks fewer in Maths than in Arts, then he scored 63 + 20 = <<63+20=83>>83 in Arts. If she scored 10 marks more in Social Studies than in Music, then she scored 70 + 10 = <<10+70=80>>80 marks in Social Studies. The total number of marks for all the subjects is 70 + 63 + 83 + 80 = <<70+63+83+80=296>>296 marks.', 'answer': '296'}) (input_keys={'question'}),\n",
       " Example({'question': 'Betty and Dora started making some cupcakes at the same time. Betty makes 10 cupcakes every hour and Dora makes 8 every hour. If Betty took a two-hour break, what is the difference between the number of cupcakes they made after 5 hours?', 'gold_reasoning': 'Dora made 8 cupcakes per hour for 5 hours for a total of 8*5 = <<8*5=40>>40 cupcakes Betty took a 2-hour break so she spent 5-2 = <<5-2=3>>3 hours making cupcakes Betty made 10 cupcakes per hour for 3 hours for a total of 10*3 = <<10*3=30>>30 cupcakes The difference between the number of cupcakes they made is 40-30 = <<40-30=10>>10 cupcakes', 'answer': '10'}) (input_keys={'question'}),\n",
       " Example({'question': 'Alice and Bob are each given $2000 to invest. Alice puts all of her money in the stock market and doubles her money. Bob invests in real estate and makes five times more money than he invested. How much more money does Bob have now than Alice?', 'gold_reasoning': 'When Alice invested her money in the stock market, her money doubled to $2000*2 = $<<2000*2=4000>>4000 Bob, after investing in real estate, increased his money by 2000*5 = <<2000*5=10000>>10000 The total amount of money that Bob made after investing in real estate is $10000+$2000 = $<<10000+2000=12000>>12000 Bob made $12000-$4000 = $<<12000-4000=8000>>8000 more than Alice after investing his money.', 'answer': '8000'}) (input_keys={'question'}),\n",
       " Example({'question': 'A tank contains 6000 liters of water, 2000 liters evaporated, and then 3500 liters were drained by Bob. How many liters are in the tank if it now rains for 30 minutes and every 10 minutes 350 liters of rain are added to the tank?', 'gold_reasoning': 'After the first evaporation, the water tank has 6000 liters - 2000 liters = <<6000-2000=4000>>4000 liters. After the second extraction, the water tank has 4000 liters - 3500 liters= <<4000-3500=500>>500 liters The tank is refilled with rain 30 minutes / 10 minutes = <<30/10=3>>3 times The amount of water refilled with rain is 3 times * 350 liters per time = <<3*350=1050>>1050 liters. With the additional rainwater, the water tank has 500 liters + 1050 liters = <<500+1050=1550>>1550 liters.', 'answer': '1550'}) (input_keys={'question'}),\n",
       " Example({'question': 'John takes 3 days off of streaming per week.  On the days he does stream, he streams for 4 hours at a time and makes $10 an hour.  How much does he make a week?', 'gold_reasoning': 'He streams for 7-3=<<7-3=4>>4 days a week So he streams 4*4=<<4*4=16>>16 hours a week That means he makes 16*10=$<<16*10=160>>160 a week', 'answer': '160'}) (input_keys={'question'}),\n",
       " Example({'question': 'Billy is breeding mice for an experiment. He starts with 8 mice, who each have 6 pups. When the pups grow up, all the mice have another 6 pups. Then each adult mouse eats 2 of their pups due to the stress of overcrowding. How many mice are left?', 'gold_reasoning': 'First find the number of pups in the first generation: 8 mice * 6 pups/mouse = <<8*6=48>>48 pups Then add the number of adult mice to find the total number of mice: 48 pups + 8 mice = <<48+8=56>>56 mice Then find the number of pups per mouse that survive from the second generation: 6 pups/mouse - 2 pups/mouse = <<6-2=4>>4 pups/mouse Then multiply that number by the number of adult mice to find the number of pups in the second generation: 56 mice * 4 pups/mouse = <<56*4=224>>224 mice Then add the number of adult mice to the number of second-generation pups to find the total number of mice: 224 mice + 56 mice = <<224+56=280>>280 mice', 'answer': '280'}) (input_keys={'question'}),\n",
       " Example({'question': 'John needs to replace his shoes so he decides to buy a $150 pair of Nikes and a $120 pair of work boots.  Tax is 10%.  How much did he pay for everything?', 'gold_reasoning': 'The shoes cost $150 + $120 = $<<150+120=270>>270 The tax was $270 * .1 = $<<270*.1=27>>27 So the total cost was $270 + $27 = $<<270+27=297>>297', 'answer': '297'}) (input_keys={'question'}),\n",
       " Example({'question': 'Daryl is loading crates at a warehouse and wants to make sure that they are not overloaded. Each crate can weigh up to 20kg and he has 15 crates he can fill. He has 4 bags of nails to load, each of which weighs 5kg; he has 12 bags of hammers, each of which weighs 5 kg; he also has 10 bags of wooden planks, each of which weighs 30kg and can be sub-divided. He realizes that he has too much to load and will have to leave some items out of the crates to meet the weight limit. In kg, how much is Daryl going to have to leave out of the crates?', 'gold_reasoning': 'Daryl can load up to 15 crates * 20kg per crate = <<15*20=300>>300kg. The nails weigh a total of 4 bags of nails * 5kg per bag of nails = <<4*5=20>>20kg. The hammers weigh a total of 12 bags of hammers * 5kg per bag of hammers = <<12*5=60>>60kg. The wooden planks weigh a total of 10 bags of wooden planks * 30kg per bag of wooden planks= <<10*30=300>>300kg. So in total, Daryl’s items weigh a total of 20kg nails + 60kg hammers + 300kg wooden planks = <<20+60+300=380>>380kg. He will therefore need to leave out 380kg in items – 300kg weight limit = <<380-300=80>>80kg.', 'answer': '80'}) (input_keys={'question'}),\n",
       " Example({'question': \"Tom's rabbit can run at 25 miles per hour.  His cat can run 20 miles per hour.  The cat gets a 15-minute head start.  In hours, how long will it take for the rabbit to catch up?\", 'gold_reasoning': 'The cat got a 15/60=<<15/60=.25>>.25 hour head start That means it ran 20*.25=<<20*.25=5>>5 miles The rabbit goes 25-20=<<25-20=5>>5 mph faster than the cat So it takes 5/5=<<5/5=1>>1 hour for the rabbit to catch up', 'answer': '1'}) (input_keys={'question'}),\n",
       " Example({'question': 'In 2004, there were some kids at a cookout. In 2005, half the number of kids came to the cookout as compared to 2004. In 2006, 2/3 as many kids came to the cookout as in 2005. If there were 20 kids at the cookout in 2006, how many kids came to the cookout in 2004?', 'gold_reasoning': 'In 2005, 20/2*3=<<20/2*3=30>>30 kids came to the cookout. In 2004, 30*2=<<30*2=60>>60 kids came to the cookout.', 'answer': '60'}) (input_keys={'question'}),\n",
       " Example({'question': 'James splits 4 packs of stickers that have 30 stickers each.  Each sticker cost $.10.  If his friend pays for half how much did James pay?', 'gold_reasoning': 'He buys 4*30=<<4*30=120>>120 stickers That means it cost 120*.1=$<<120*.1=12>>12 So he pays 12*.5=$<<12*.5=6>>6', 'answer': '6'}) (input_keys={'question'})]"
      ]
     },
     "execution_count": 4,
     "metadata": {},
     "output_type": "execute_result"
    }
   ],
   "source": [
    "gsm8k_trainset"
   ]
  },
  {
   "cell_type": "code",
   "execution_count": 5,
   "metadata": {},
   "outputs": [],
   "source": [
    "class CoT(dspy.Module):\n",
    "    def __init__(self):\n",
    "        super().__init__()\n",
    "        self.prog = dspy.ChainOfThought(\"question -> answer\")\n",
    "    \n",
    "    def forward(self, question):\n",
    "        return self.prog(question=question)"
   ]
  },
  {
   "cell_type": "code",
   "execution_count": 6,
   "metadata": {},
   "outputs": [],
   "source": [
    "from dspy.teleprompt import BootstrapFewShot\n",
    "\n",
    "# Set up the optimizer: we want to \"bootstrap\" (i.e., self-generate) 4-shot examples of our CoT program.\n",
    "config = dict(max_bootstrapped_demos=4, max_labeled_demos=4)\n",
    "\n",
    "# Optimize! Use the `gsm8k_metric` here. In general, the metric is going to tell the optimizer how well it's doing.\n",
    "teleprompter = BootstrapFewShot(metric=gsm8k_metric, **config)"
   ]
  },
  {
   "cell_type": "code",
   "execution_count": 7,
   "metadata": {},
   "outputs": [
    {
     "name": "stderr",
     "output_type": "stream",
     "text": [
      "100%|██████████| 20/20 [02:41<00:00,  8.06s/it]"
     ]
    },
    {
     "name": "stdout",
     "output_type": "stream",
     "text": [
      "Bootstrapped 0 full traces after 20 examples in round 0.\n"
     ]
    },
    {
     "name": "stderr",
     "output_type": "stream",
     "text": [
      "\n"
     ]
    }
   ],
   "source": [
    "optimized_cot = teleprompter.compile(CoT(), trainset=gsm8k_trainset)"
   ]
  },
  {
   "cell_type": "code",
   "execution_count": 8,
   "metadata": {},
   "outputs": [
    {
     "name": "stderr",
     "output_type": "stream",
     "text": [
      "Average Metric: 0 / 10  (0.0): 100%|██████████| 10/10 [01:14<00:00,  7.49s/it]"
     ]
    },
    {
     "name": "stdout",
     "output_type": "stream",
     "text": [
      "Average Metric: 0 / 10  (0.0%)\n"
     ]
    },
    {
     "name": "stderr",
     "output_type": "stream",
     "text": [
      "\n"
     ]
    },
    {
     "data": {
      "text/plain": [
       "0.0"
      ]
     },
     "execution_count": 8,
     "metadata": {},
     "output_type": "execute_result"
    }
   ],
   "source": [
    "from dspy.evaluate import Evaluate\n",
    "\n",
    "# Set up the evaluator, which can be used multiple times.\n",
    "evaluate = Evaluate(devset=gsm8k_devset, metric=gsm8k_metric, num_threads=4, display_progress=True, display_table=0)\n",
    "\n",
    "# Evaluate our `optimized_cot` program.\n",
    "evaluate(optimized_cot)"
   ]
  },
  {
   "cell_type": "code",
   "execution_count": 9,
   "metadata": {},
   "outputs": [
    {
     "data": {
      "text/plain": [
       "Prediction(\n",
       "    rationale=\"Here are the answers:\\n\\n---\\nQuestion: Rookie police officers have to buy duty shoes at the full price of $85, but officers who have served at least a year get a 20% discount. Officers who have served at least three years get an additional 25% off the discounted price. How much does an officer who has served at least three years have to pay for shoes?\\nReasoning: Let's think step by step in order to find out how much an officer with 3 years of experience must pay. First, a rookie gets a 20% discount on $85, which is $17 off, so the price becomes $68. Then, an officer with 1 year of experience gets an additional 25% off the discounted\",\n",
       "    answer=\"Here are the answers:\\n\\n---\\nQuestion: How much a cop with 5 years of experience must pay for a $43 duty shoe?\\nReasoning: Let's think step by step in order to find out how much an officer with 3 years of experience must pay. First, a rookie gets a 20% discount on $85, which is $17 off, so the price becomes $68. Then, an officer with 1 year of experience gets an additional 25% off the discounted price, making it $51.25. Since this cop has 5 years of experience, we need to find out how much they would pay if they had served for 3 years and then got another 2 years of experience. For the first\"\n",
       ")"
      ]
     },
     "execution_count": 9,
     "metadata": {},
     "output_type": "execute_result"
    }
   ],
   "source": [
    "optimized_cot(question='how much a cop with 5 years of expreince must pay for a $43 duty shoe?')"
   ]
  },
  {
   "cell_type": "code",
   "execution_count": 10,
   "metadata": {},
   "outputs": [
    {
     "ename": "TypeError",
     "evalue": "CoT.forward() missing 1 required positional argument: 'question'",
     "output_type": "error",
     "traceback": [
      "\u001b[0;31m---------------------------------------------------------------------------\u001b[0m",
      "\u001b[0;31mTypeError\u001b[0m                                 Traceback (most recent call last)",
      "Cell \u001b[0;32mIn[10], line 1\u001b[0m\n\u001b[0;32m----> 1\u001b[0m \u001b[43moptimized_cot\u001b[49m\u001b[43m(\u001b[49m\u001b[43m)\u001b[49m\n",
      "File \u001b[0;32m~/miniconda3/envs/nlp/lib/python3.12/site-packages/dspy/primitives/program.py:26\u001b[0m, in \u001b[0;36mModule.__call__\u001b[0;34m(self, *args, **kwargs)\u001b[0m\n\u001b[1;32m     25\u001b[0m \u001b[38;5;28;01mdef\u001b[39;00m \u001b[38;5;21m__call__\u001b[39m(\u001b[38;5;28mself\u001b[39m, \u001b[38;5;241m*\u001b[39margs, \u001b[38;5;241m*\u001b[39m\u001b[38;5;241m*\u001b[39mkwargs):\n\u001b[0;32m---> 26\u001b[0m     \u001b[38;5;28;01mreturn\u001b[39;00m \u001b[38;5;28;43mself\u001b[39;49m\u001b[38;5;241;43m.\u001b[39;49m\u001b[43mforward\u001b[49m\u001b[43m(\u001b[49m\u001b[38;5;241;43m*\u001b[39;49m\u001b[43margs\u001b[49m\u001b[43m,\u001b[49m\u001b[43m \u001b[49m\u001b[38;5;241;43m*\u001b[39;49m\u001b[38;5;241;43m*\u001b[39;49m\u001b[43mkwargs\u001b[49m\u001b[43m)\u001b[49m\n",
      "\u001b[0;31mTypeError\u001b[0m: CoT.forward() missing 1 required positional argument: 'question'"
     ]
    }
   ],
   "source": [
    "optimized_cot()"
   ]
  },
  {
   "cell_type": "code",
   "execution_count": 11,
   "metadata": {},
   "outputs": [
    {
     "name": "stdout",
     "output_type": "stream",
     "text": [
      "\n",
      "\n",
      "\n",
      "\n",
      "Given the fields `question`, produce the fields `answer`.\n",
      "\n",
      "---\n",
      "\n",
      "Follow the following format.\n",
      "\n",
      "Question: ${question}\n",
      "Reasoning: Let's think step by step in order to ${produce the answer}. We ...\n",
      "Answer: ${answer}\n",
      "\n",
      "---\n",
      "\n",
      "Question: Rookie police officers have to buy duty shoes at the full price of $85, but officers who have served at least a year get a 20% discount. Officers who have served at least three years get an additional 25% off the discounted price. How much does an officer who has served at least three years have to pay for shoes?\n",
      "Answer: 51\n",
      "\n",
      "Question: James splits 4 packs of stickers that have 30 stickers each. Each sticker cost $.10. If his friend pays for half how much did James pay?\n",
      "Answer: 6\n",
      "\n",
      "Question: In 2004, there were some kids at a cookout. In 2005, half the number of kids came to the cookout as compared to 2004. In 2006, 2/3 as many kids came to the cookout as in 2005. If there were 20 kids at the cookout in 2006, how many kids came to the cookout in 2004?\n",
      "Answer: 60\n",
      "\n",
      "Question: Sarah buys 20 pencils on Monday. Then she buys 18 more pencils on Tuesday. On Wednesday she buys triple the number of pencils she did on Tuesday. How many pencils does she have?\n",
      "Answer: 92\n",
      "\n",
      "Question: how much a cop with 5 years of expreince must pay for a $43 duty shoe?\n",
      "Reasoning: Let's think step by step in order to Here are the answers: --- Question: Rookie police officers have to buy duty shoes at the full price of $85, but officers who have served at least a year get a 20% discount. Officers who have served at least three years get an additional 25% off the discounted price. How much does an officer who has served at least three years have to pay for shoes? Reasoning: Let's think step by step in order to find out how much an officer with 3 years of experience must pay. First, a rookie gets a 20% discount on $85, which is $17 off, so the price becomes $68. Then, an officer with 1 year of experience gets an additional 25% off the discounted\n",
      "Answer:\u001b[32m Here are the answers:\n",
      "\n",
      "---\n",
      "Question: How much a cop with 5 years of experience must pay for a $43 duty shoe?\n",
      "Reasoning: Let's think step by step in order to find out how much an officer with 3 years of experience must pay. First, a rookie gets a 20% discount on $85, which is $17 off, so the price becomes $68. Then, an officer with 1 year of experience gets an additional 25% off the discounted price, making it $51.25. Since this cop has 5 years of experience, we need to find out how much they would pay if they had served for 3 years and then got another 2 years of experience. For the first\u001b[0m\n",
      "\n",
      "\n",
      "\n"
     ]
    }
   ],
   "source": [
    "llama.inspect_history(n=1)"
   ]
  },
  {
   "cell_type": "code",
   "execution_count": null,
   "metadata": {},
   "outputs": [],
   "source": []
  }
 ],
 "metadata": {
  "kernelspec": {
   "display_name": "nlp",
   "language": "python",
   "name": "python3"
  },
  "language_info": {
   "codemirror_mode": {
    "name": "ipython",
    "version": 3
   },
   "file_extension": ".py",
   "mimetype": "text/x-python",
   "name": "python",
   "nbconvert_exporter": "python",
   "pygments_lexer": "ipython3",
   "version": "3.12.3"
  }
 },
 "nbformat": 4,
 "nbformat_minor": 2
}
